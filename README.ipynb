{
 "cells": [
  {
   "cell_type": "markdown",
   "id": "f4169895-9110-4d6a-8552-3ee0d49d8270",
   "metadata": {},
   "source": [
    "# bevy-cheeseball - creating a 3D game with rust and bevy"
   ]
  },
  {
   "cell_type": "markdown",
   "id": "e5363834-a363-4313-9ba8-73a15855c68a",
   "metadata": {},
   "source": [
    "My second 3D game with rust(https://www.rust-lang.org) and the bevy framework(https://bevyengine.org).\n",
    "\n",
    "I am inspired by the classic marble like #MonkeyBall.  \n",
    "    \n",
    "Thanks to Kenny https://www.kenney.nl for the assets."
   ]
  },
  {
   "cell_type": "markdown",
   "id": "7668f01d-8a35-4c17-bd2f-95285b0076eb",
   "metadata": {},
   "source": [
    "## 1. Step _ setup first level"
   ]
  },
  {
   "cell_type": "code",
   "execution_count": null,
   "id": "d040e616-deae-4c28-9b9a-3e6637f2a0dc",
   "metadata": {},
   "outputs": [],
   "source": []
  }
 ],
 "metadata": {
  "kernelspec": {
   "display_name": "Rust",
   "language": "rust",
   "name": "rust"
  },
  "language_info": {
   "codemirror_mode": "rust",
   "file_extension": ".rs",
   "mimetype": "text/rust",
   "name": "Rust",
   "pygment_lexer": "rust",
   "version": ""
  }
 },
 "nbformat": 4,
 "nbformat_minor": 5
}
